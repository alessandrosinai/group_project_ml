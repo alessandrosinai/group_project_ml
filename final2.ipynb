{
 "cells": [
  {
   "cell_type": "code",
   "execution_count": 145,
   "metadata": {},
   "outputs": [],
   "source": [
    "\n",
    "# Common imports\n",
    "import numpy as np\n",
    "import os\n",
    "\n",
    "# to make this notebook's output stable across runs\n",
    "np.random.seed(42)\n",
    "\n",
    "# To plot pretty figures\n",
    "%matplotlib inline\n",
    "import matplotlib as mpl\n",
    "import matplotlib.pyplot as plt\n",
    "mpl.rc('axes', labelsize=14)\n",
    "mpl.rc('xtick', labelsize=12)\n",
    "mpl.rc('ytick', labelsize=12)\n",
    "\n",
    "# Where to save the figures\n",
    "PROJECT_ROOT_DIR = \".\"\n",
    "CHAPTER_ID = \"end_to_end_project\"\n",
    "IMAGES_PATH = os.path.join(PROJECT_ROOT_DIR, \"images\", CHAPTER_ID)\n",
    "os.makedirs(IMAGES_PATH, exist_ok=True)\n",
    "\n",
    "def save_fig(fig_id, tight_layout=True, fig_extension=\"png\", resolution=300):\n",
    "    path = os.path.join(IMAGES_PATH, fig_id + \".\" + fig_extension)\n",
    "    print(\"Saving figure\", fig_id)\n",
    "    if tight_layout:\n",
    "        plt.tight_layout()\n",
    "    plt.savefig(path, format=fig_extension, dpi=resolution)"
   ]
  },
  {
   "cell_type": "code",
   "execution_count": 146,
   "metadata": {},
   "outputs": [],
   "source": [
    "import pandas as pd\n",
    "\n",
    "test= pd.read_csv(r\"C:\\Users\\alesi\\Documents\\group_project_ml\\test.csv\")\n",
    "train= pd.read_csv(r\"C:\\Users\\alesi\\Documents\\group_project_ml\\train.csv\")"
   ]
  },
  {
   "cell_type": "code",
   "execution_count": 147,
   "metadata": {},
   "outputs": [],
   "source": [
    "financial_train = train.drop(\"y\", axis=1) # drop labels for training \n",
    "y=train[\"y\"].copy()\n",
    "financial_train2 = financial_train.drop(\"w\", axis=1)\n"
   ]
  },
  {
   "cell_type": "code",
   "execution_count": 148,
   "metadata": {},
   "outputs": [],
   "source": [
    "from sklearn.preprocessing import MinMaxScaler\n",
    "scaler = MinMaxScaler(feature_range = (0, 1))\n",
    "\n",
    "fin_array = scaler.fit_transform(financial_train2)\n"
   ]
  },
  {
   "cell_type": "code",
   "execution_count": 149,
   "metadata": {},
   "outputs": [],
   "source": [
    "features_set = np.reshape(fin_array, ( fin_array.shape[0],fin_array.shape[1],1))"
   ]
  },
  {
   "cell_type": "code",
   "execution_count": 150,
   "metadata": {},
   "outputs": [
    {
     "data": {
      "text/plain": [
       "array([[[0.77543941],\n",
       "        [0.73641688],\n",
       "        [0.66819053],\n",
       "        ...,\n",
       "        [0.81500202],\n",
       "        [0.80270631],\n",
       "        [0.70407194]],\n",
       "\n",
       "       [[0.76573625],\n",
       "        [0.69986236],\n",
       "        [0.62592815],\n",
       "        ...,\n",
       "        [0.85070807],\n",
       "        [0.82899471],\n",
       "        [0.84460308]],\n",
       "\n",
       "       [[0.7421511 ],\n",
       "        [0.7122393 ],\n",
       "        [0.76833876],\n",
       "        ...,\n",
       "        [0.61630346],\n",
       "        [0.62767519],\n",
       "        [0.68464607]],\n",
       "\n",
       "       ...,\n",
       "\n",
       "       [[0.84564578],\n",
       "        [0.83921647],\n",
       "        [0.83300523],\n",
       "        ...,\n",
       "        [0.78301731],\n",
       "        [0.77935849],\n",
       "        [0.78419072]],\n",
       "\n",
       "       [[0.79846584],\n",
       "        [0.79272539],\n",
       "        [0.79541808],\n",
       "        ...,\n",
       "        [0.77660452],\n",
       "        [0.77457619],\n",
       "        [0.78108037]],\n",
       "\n",
       "       [[0.91306063],\n",
       "        [0.90600368],\n",
       "        [0.89643146],\n",
       "        ...,\n",
       "        [0.77566848],\n",
       "        [0.7717734 ],\n",
       "        [0.77295746]]])"
      ]
     },
     "execution_count": 150,
     "metadata": {},
     "output_type": "execute_result"
    }
   ],
   "source": [
    "features_set\n"
   ]
  },
  {
   "cell_type": "code",
   "execution_count": 151,
   "metadata": {},
   "outputs": [
    {
     "data": {
      "text/plain": [
       "(7326, 50, 1)"
      ]
     },
     "execution_count": 151,
     "metadata": {},
     "output_type": "execute_result"
    }
   ],
   "source": [
    "features_set.shape"
   ]
  },
  {
   "cell_type": "code",
   "execution_count": 152,
   "metadata": {},
   "outputs": [],
   "source": [
    "from keras.models import Sequential\n",
    "from keras.layers import Dense, Activation, TimeDistributed, RepeatVector\n",
    "from keras.layers import LSTM, GRU\n",
    "from keras.layers import Dropout\n",
    "from keras.callbacks import EarlyStopping"
   ]
  },
  {
   "cell_type": "code",
   "execution_count": 153,
   "metadata": {},
   "outputs": [],
   "source": [
    "early_stopping = EarlyStopping(monitor=\"val_loss\",\n",
    "    min_delta=0.004, \n",
    "    patience=10, \n",
    "    restore_best_weights=True,\n",
    ")"
   ]
  },
  {
   "cell_type": "code",
   "execution_count": 154,
   "metadata": {},
   "outputs": [
    {
     "data": {
      "text/plain": [
       "(7326,)"
      ]
     },
     "execution_count": 154,
     "metadata": {},
     "output_type": "execute_result"
    }
   ],
   "source": [
    "labels=np.array(y)\n",
    "labels\n",
    "labels.shape\n"
   ]
  },
  {
   "cell_type": "code",
   "execution_count": null,
   "metadata": {},
   "outputs": [],
   "source": []
  },
  {
   "cell_type": "code",
   "execution_count": 165,
   "metadata": {
    "scrolled": true
   },
   "outputs": [
    {
     "name": "stdout",
     "output_type": "stream",
     "text": [
      "Epoch 1/20\n",
      "184/184 [==============================] - 10s 40ms/step - loss: 0.5157 - val_loss: 0.2764\n",
      "Epoch 2/20\n",
      "184/184 [==============================] - 7s 38ms/step - loss: 0.1871 - val_loss: 0.2929\n",
      "Epoch 3/20\n",
      "184/184 [==============================] - 7s 39ms/step - loss: 0.1313 - val_loss: 0.1438\n",
      "Epoch 4/20\n",
      "184/184 [==============================] - 7s 38ms/step - loss: 0.1242 - val_loss: 0.1368\n",
      "Epoch 5/20\n",
      "184/184 [==============================] - 7s 39ms/step - loss: 0.0949 - val_loss: 6.7161\n",
      "Epoch 6/20\n",
      "184/184 [==============================] - 7s 38ms/step - loss: 0.0908 - val_loss: 0.3117\n",
      "Epoch 7/20\n",
      "184/184 [==============================] - 7s 39ms/step - loss: 0.0912 - val_loss: 0.1689\n",
      "Epoch 8/20\n",
      "184/184 [==============================] - 7s 38ms/step - loss: 0.0782 - val_loss: 0.1900\n",
      "Epoch 9/20\n",
      "184/184 [==============================] - 7s 40ms/step - loss: 0.0750 - val_loss: 41.0262\n",
      "Epoch 10/20\n",
      "184/184 [==============================] - 8s 42ms/step - loss: 0.0640 - val_loss: 2.8527\n",
      "Epoch 11/20\n",
      "184/184 [==============================] - 8s 43ms/step - loss: 0.0625 - val_loss: 0.7183\n",
      "Epoch 12/20\n",
      "184/184 [==============================] - 8s 42ms/step - loss: 0.0565 - val_loss: 0.2149\n",
      "Epoch 13/20\n",
      "184/184 [==============================] - 8s 43ms/step - loss: 0.0574 - val_loss: 0.1173\n",
      "Epoch 14/20\n",
      "184/184 [==============================] - 8s 44ms/step - loss: 0.0534 - val_loss: 0.0804\n",
      "Epoch 15/20\n",
      "184/184 [==============================] - 8s 45ms/step - loss: 0.0534 - val_loss: 0.0880\n",
      "Epoch 16/20\n",
      "184/184 [==============================] - 9s 47ms/step - loss: 0.0516 - val_loss: 0.0645\n",
      "Epoch 17/20\n",
      "184/184 [==============================] - 8s 43ms/step - loss: 0.0514 - val_loss: 0.0515\n",
      "Epoch 18/20\n",
      "184/184 [==============================] - 9s 48ms/step - loss: 0.0485 - val_loss: 0.0543\n",
      "Epoch 19/20\n",
      "184/184 [==============================] - 9s 47ms/step - loss: 0.0480 - val_loss: 0.0528\n",
      "Epoch 20/20\n",
      "184/184 [==============================] - 8s 45ms/step - loss: 0.0461 - val_loss: 0.0541\n"
     ]
    },
    {
     "data": {
      "text/plain": [
       "<tensorflow.python.keras.callbacks.History at 0x1e4c11297f0>"
      ]
     },
     "execution_count": 165,
     "metadata": {},
     "output_type": "execute_result"
    }
   ],
   "source": [
    "model = Sequential()\n",
    "\n",
    "model.add(LSTM(units=50, activation=\"relu\", return_sequences=\"True\" ,input_shape=(features_set.shape[1], 1)))\n",
    "model.add(Dropout(0.2))\n",
    "\n",
    "model.add(LSTM(units=50, activation=\"relu\", return_sequences=\"True\" ,input_shape=(features_set.shape[1], 1)))\n",
    "model.add(Dropout(0.2))\n",
    "\n",
    "model.add(LSTM(units=50, activation=\"relu\", input_shape=(features_set.shape[1], 1)))\n",
    "model.add(Dropout(0.2))\n",
    "\n",
    "\n",
    "model.add(Dense(100, activation=\"relu\"))\n",
    "model.add(Dense(units = 1))\n",
    "model.compile(optimizer = 'adam', loss = 'mean_squared_error')\n",
    "model.fit(features_set, labels, epochs = 20,validation_split=0.2, batch_size = 32)"
   ]
  },
  {
   "cell_type": "code",
   "execution_count": 167,
   "metadata": {
    "scrolled": false
   },
   "outputs": [
    {
     "name": "stdout",
     "output_type": "stream",
     "text": [
      "Epoch 1/50\n",
      "2/2 [==============================] - 4s 2s/step - loss: 0.0448 - val_loss: 0.0448\n",
      "Epoch 2/50\n",
      "2/2 [==============================] - 4s 2s/step - loss: 0.0449 - val_loss: 0.0452\n",
      "Epoch 3/50\n",
      "2/2 [==============================] - 4s 2s/step - loss: 0.0442 - val_loss: 0.0448\n",
      "Epoch 4/50\n",
      "2/2 [==============================] - 4s 2s/step - loss: 0.0438 - val_loss: 0.0438\n",
      "Epoch 5/50\n",
      "2/2 [==============================] - 4s 2s/step - loss: 0.0437 - val_loss: 0.0431\n",
      "Epoch 6/50\n",
      "2/2 [==============================] - 4s 2s/step - loss: 0.0427 - val_loss: 0.0433\n",
      "Epoch 7/50\n",
      "2/2 [==============================] - 4s 2s/step - loss: 0.0435 - val_loss: 0.0436\n",
      "Epoch 8/50\n",
      "2/2 [==============================] - 4s 2s/step - loss: 0.0430 - val_loss: 0.0442\n",
      "Epoch 9/50\n",
      "2/2 [==============================] - 4s 2s/step - loss: 0.0423 - val_loss: 0.0447\n",
      "Epoch 10/50\n",
      "2/2 [==============================] - 4s 2s/step - loss: 0.0424 - val_loss: 0.0447\n",
      "Epoch 11/50\n",
      "2/2 [==============================] - 4s 2s/step - loss: 0.0418 - val_loss: 0.0442\n"
     ]
    },
    {
     "data": {
      "text/plain": [
       "<tensorflow.python.keras.callbacks.History at 0x1e4c40ddcd0>"
      ]
     },
     "execution_count": 167,
     "metadata": {},
     "output_type": "execute_result"
    }
   ],
   "source": [
    "\n",
    "model.fit(features_set, labels, epochs = 50,validation_split=0.1, batch_size = 3663, callbacks=[early_stopping])\n"
   ]
  },
  {
   "cell_type": "code",
   "execution_count": 49,
   "metadata": {},
   "outputs": [
    {
     "name": "stdout",
     "output_type": "stream",
     "text": [
      "Epoch 1/20\n",
      "115/115 [==============================] - 9s 34ms/step - loss: 4436222.5388 - mean_squared_error: 4436222.5388 1s - loss: 4432306\n",
      "Epoch 2/20\n",
      "115/115 [==============================] - 4s 37ms/step - loss: 4387077.6681 - mean_squared_error: 4387077.6681\n",
      "Epoch 3/20\n",
      "115/115 [==============================] - 4s 36ms/step - loss: 4502448.5948 - mean_squared_error: 4502448.5948\n",
      "Epoch 4/20\n",
      "115/115 [==============================] - 4s 37ms/step - loss: 4358095.1487 - mean_squared_error: 4358095.1487\n",
      "Epoch 5/20\n",
      "115/115 [==============================] - 4s 37ms/step - loss: 4323647.3922 - mean_squared_error: 4323647.3922\n",
      "Epoch 6/20\n",
      "115/115 [==============================] - 4s 38ms/step - loss: 4328464.3297 - mean_squared_error: 4328464.3297\n",
      "Epoch 7/20\n",
      "115/115 [==============================] - 4s 39ms/step - loss: 4268598.1228 - mean_squared_error: 4268598.1228\n",
      "Epoch 8/20\n",
      "115/115 [==============================] - 4s 39ms/step - loss: 4176462.4095 - mean_squared_error: 4176462.4095\n",
      "Epoch 9/20\n",
      "115/115 [==============================] - 4s 38ms/step - loss: 4213280.5280 - mean_squared_error: 4213280.5280\n",
      "Epoch 10/20\n",
      "115/115 [==============================] - 4s 36ms/step - loss: 4215141.7931 - mean_squared_error: 4215141.7931\n",
      "Epoch 11/20\n",
      "115/115 [==============================] - 4s 38ms/step - loss: 4276716.3362 - mean_squared_error: 4276716.3362\n",
      "Epoch 12/20\n",
      "115/115 [==============================] - 4s 38ms/step - loss: 4064385.3966 - mean_squared_error: 4064385.3966\n",
      "Epoch 13/20\n",
      "115/115 [==============================] - 4s 38ms/step - loss: 4106286.8534 - mean_squared_error: 4106286.8534\n",
      "Epoch 14/20\n",
      "115/115 [==============================] - 4s 37ms/step - loss: 4164212.8534 - mean_squared_error: 4164212.8534\n",
      "Epoch 15/20\n",
      "115/115 [==============================] - 4s 38ms/step - loss: 4074681.3125 - mean_squared_error: 4074681.3125\n",
      "Epoch 16/20\n",
      "115/115 [==============================] - 4s 37ms/step - loss: 4062237.1422 - mean_squared_error: 4062237.1422\n",
      "Epoch 17/20\n",
      "115/115 [==============================] - 4s 38ms/step - loss: 4055012.6379 - mean_squared_error: 4055012.6379\n",
      "Epoch 18/20\n",
      "115/115 [==============================] - 4s 37ms/step - loss: 3850964.2996 - mean_squared_error: 3850964.2996\n",
      "Epoch 19/20\n",
      "115/115 [==============================] - 4s 37ms/step - loss: 4071492.4073 - mean_squared_error: 4071492.4073\n",
      "Epoch 20/20\n",
      "115/115 [==============================] - 4s 38ms/step - loss: 3915359.7349 - mean_squared_error: 3915359.7349\n",
      "Epoch 1/20\n",
      "115/115 [==============================] - 9s 36ms/step - loss: 4398878.4138 - mean_squared_error: 4398878.4138\n",
      "Epoch 2/20\n",
      "115/115 [==============================] - 4s 34ms/step - loss: 4368074.1379 - mean_squared_error: 4368074.1379\n",
      "Epoch 3/20\n",
      "115/115 [==============================] - 4s 35ms/step - loss: 4429552.1121 - mean_squared_error: 4429552.1121\n",
      "Epoch 4/20\n",
      "115/115 [==============================] - 4s 38ms/step - loss: 4366269.3405 - mean_squared_error: 4366269.3405\n",
      "Epoch 5/20\n",
      "115/115 [==============================] - 4s 39ms/step - loss: 4259118.7500 - mean_squared_error: 4259118.7500\n",
      "Epoch 6/20\n",
      "115/115 [==============================] - 4s 38ms/step - loss: 4158949.8470 - mean_squared_error: 4158949.8470\n",
      "Epoch 7/20\n",
      "115/115 [==============================] - 4s 36ms/step - loss: 4252554.8082 - mean_squared_error: 4252554.8082\n",
      "Epoch 8/20\n",
      "115/115 [==============================] - 4s 38ms/step - loss: 4237300.9677 - mean_squared_error: 4237300.9677\n",
      "Epoch 9/20\n",
      "115/115 [==============================] - 4s 38ms/step - loss: 4251156.9655 - mean_squared_error: 4251156.9655\n",
      "Epoch 10/20\n",
      "115/115 [==============================] - 4s 37ms/step - loss: 4177805.6207 - mean_squared_error: 4177805.6207\n",
      "Epoch 11/20\n",
      "115/115 [==============================] - 4s 37ms/step - loss: 4084802.3491 - mean_squared_error: 4084802.3491\n",
      "Epoch 12/20\n",
      "115/115 [==============================] - 4s 37ms/step - loss: 4127530.0754 - mean_squared_error: 4127530.0754\n",
      "Epoch 13/20\n",
      "115/115 [==============================] - 4s 37ms/step - loss: 4116604.8922 - mean_squared_error: 4116604.8922\n",
      "Epoch 14/20\n",
      "115/115 [==============================] - 4s 38ms/step - loss: 4116104.8470 - mean_squared_error: 4116104.8470\n",
      "Epoch 15/20\n",
      "115/115 [==============================] - 4s 37ms/step - loss: 4040981.3039 - mean_squared_error: 4040981.3039\n",
      "Epoch 16/20\n",
      "115/115 [==============================] - 4s 37ms/step - loss: 4074224.1940 - mean_squared_error: 4074224.1940\n",
      "Epoch 17/20\n",
      "115/115 [==============================] - 4s 38ms/step - loss: 4139392.7996 - mean_squared_error: 4139392.7996\n",
      "Epoch 18/20\n",
      "115/115 [==============================] - 4s 36ms/step - loss: 3973610.8879 - mean_squared_error: 3973610.8879\n",
      "Epoch 19/20\n",
      "115/115 [==============================] - 4s 38ms/step - loss: 3975063.4052 - mean_squared_error: 3975063.4052\n",
      "Epoch 20/20\n",
      "115/115 [==============================] - 5s 39ms/step - loss: 3938069.2522 - mean_squared_error: 3938069.2522\n"
     ]
    },
    {
     "name": "stderr",
     "output_type": "stream",
     "text": [
      "C:\\Users\\alesi\\anaconda3\\lib\\site-packages\\tensorflow\\python\\keras\\engine\\sequential.py:450: UserWarning: `model.predict_classes()` is deprecated and will be removed after 2021-01-01. Please use instead:* `np.argmax(model.predict(x), axis=-1)`,   if your model does multi-class classification   (e.g. if it uses a `softmax` last-layer activation).* `(model.predict(x) > 0.5).astype(\"int32\")`,   if your model does binary classification   (e.g. if it uses a `sigmoid` last-layer activation).\n",
      "  warnings.warn('`model.predict_classes()` is deprecated and '\n"
     ]
    },
    {
     "name": "stdout",
     "output_type": "stream",
     "text": [
      "Epoch 1/50\n",
      "115/115 [==============================] - 9s 35ms/step - loss: 4410328.5043 - mean_squared_error: 4410328.5043 1s -\n",
      "Epoch 2/50\n",
      "115/115 [==============================] - 4s 35ms/step - loss: 4282726.0366 - mean_squared_error: 4282726.0366\n",
      "Epoch 3/50\n",
      "115/115 [==============================] - 4s 36ms/step - loss: 4525169.5819 - mean_squared_error: 4525169.5819\n",
      "Epoch 4/50\n",
      "115/115 [==============================] - 4s 36ms/step - loss: 4346491.5970 - mean_squared_error: 4346491.5970 1s -\n",
      "Epoch 5/50\n",
      "115/115 [==============================] - 4s 37ms/step - loss: 4275080.9871 - mean_squared_error: 4275080.9871\n",
      "Epoch 6/50\n",
      "115/115 [==============================] - 4s 38ms/step - loss: 4215660.7241 - mean_squared_error: 4215660.7241\n",
      "Epoch 7/50\n",
      "115/115 [==============================] - 5s 39ms/step - loss: 4369508.8233 - mean_squared_error: 4369508.8233\n",
      "Epoch 8/50\n",
      "115/115 [==============================] - 4s 37ms/step - loss: 4266957.3750 - mean_squared_error: 4266957.3750\n",
      "Epoch 9/50\n",
      "115/115 [==============================] - 4s 38ms/step - loss: 4265887.8448 - mean_squared_error: 4265887.8448\n",
      "Epoch 10/50\n",
      "115/115 [==============================] - 4s 38ms/step - loss: 4220137.1595 - mean_squared_error: 4220137.1595\n",
      "Epoch 11/50\n",
      "115/115 [==============================] - 4s 36ms/step - loss: 4061875.5065 - mean_squared_error: 4061875.5065\n",
      "Epoch 12/50\n",
      "115/115 [==============================] - 4s 37ms/step - loss: 4117256.1832 - mean_squared_error: 4117256.1832\n",
      "Epoch 13/50\n",
      "115/115 [==============================] - 4s 38ms/step - loss: 4088416.1983 - mean_squared_error: 4088416.1983\n",
      "Epoch 14/50\n",
      "115/115 [==============================] - 4s 37ms/step - loss: 4133038.2802 - mean_squared_error: 4133038.2802\n",
      "Epoch 15/50\n",
      "115/115 [==============================] - 4s 36ms/step - loss: 4081329.6444 - mean_squared_error: 4081329.6444\n",
      "Epoch 16/50\n",
      "115/115 [==============================] - 4s 38ms/step - loss: 4017977.2931 - mean_squared_error: 4017977.2931\n",
      "Epoch 17/50\n",
      "115/115 [==============================] - 5s 39ms/step - loss: 3932509.2586 - mean_squared_error: 3932509.2586\n",
      "Epoch 18/50\n",
      "115/115 [==============================] - 4s 36ms/step - loss: 3906290.5129 - mean_squared_error: 3906290.5129\n",
      "Epoch 19/50\n",
      "115/115 [==============================] - 4s 38ms/step - loss: 4052434.8448 - mean_squared_error: 4052434.8448\n",
      "Epoch 20/50\n",
      "115/115 [==============================] - 4s 38ms/step - loss: 3945507.5388 - mean_squared_error: 3945507.5388\n",
      "Epoch 21/50\n",
      "115/115 [==============================] - 5s 39ms/step - loss: 3941350.3103 - mean_squared_error: 3941350.3103\n",
      "Epoch 22/50\n",
      "115/115 [==============================] - 5s 40ms/step - loss: 3941470.5948 - mean_squared_error: 3941470.5948\n",
      "Epoch 23/50\n",
      "115/115 [==============================] - 4s 38ms/step - loss: 3834899.5517 - mean_squared_error: 3834899.5517\n",
      "Epoch 24/50\n",
      "115/115 [==============================] - 4s 38ms/step - loss: 3840343.0539 - mean_squared_error: 3840343.0539\n",
      "Epoch 25/50\n",
      "115/115 [==============================] - 4s 37ms/step - loss: 3860976.0582 - mean_squared_error: 3860976.0582\n",
      "Epoch 26/50\n",
      "115/115 [==============================] - 4s 37ms/step - loss: 3867003.1466 - mean_squared_error: 3867003.1466\n",
      "Epoch 27/50\n",
      "115/115 [==============================] - 4s 38ms/step - loss: 3790171.4353 - mean_squared_error: 3790171.4353\n",
      "Epoch 28/50\n",
      "115/115 [==============================] - 4s 38ms/step - loss: 3768772.7802 - mean_squared_error: 3768772.7802\n",
      "Epoch 29/50\n",
      "115/115 [==============================] - 4s 36ms/step - loss: 3668699.2177 - mean_squared_error: 3668699.2177\n",
      "Epoch 30/50\n",
      "115/115 [==============================] - 4s 39ms/step - loss: 3722901.2134 - mean_squared_error: 3722901.2134\n",
      "Epoch 31/50\n",
      "115/115 [==============================] - 4s 39ms/step - loss: 3737645.6552 - mean_squared_error: 3737645.6552\n",
      "Epoch 32/50\n",
      "115/115 [==============================] - 4s 39ms/step - loss: 3667312.6875 - mean_squared_error: 3667312.6875\n",
      "Epoch 33/50\n",
      "115/115 [==============================] - 4s 37ms/step - loss: 3633174.9246 - mean_squared_error: 3633174.9246\n",
      "Epoch 34/50\n",
      "115/115 [==============================] - 4s 38ms/step - loss: 3656777.0108 - mean_squared_error: 3656777.0108\n",
      "Epoch 35/50\n",
      "115/115 [==============================] - 4s 38ms/step - loss: 3530768.2586 - mean_squared_error: 3530768.2586\n",
      "Epoch 36/50\n",
      "115/115 [==============================] - 4s 38ms/step - loss: 3633189.2349 - mean_squared_error: 3633189.2349\n",
      "Epoch 37/50\n",
      "115/115 [==============================] - 4s 37ms/step - loss: 3464521.7565 - mean_squared_error: 3464521.7565\n",
      "Epoch 38/50\n",
      "115/115 [==============================] - 4s 39ms/step - loss: 3400742.9483 - mean_squared_error: 3400742.9483\n",
      "Epoch 39/50\n",
      "115/115 [==============================] - 4s 38ms/step - loss: 3489270.6767 - mean_squared_error: 3489270.6767\n",
      "Epoch 40/50\n",
      "115/115 [==============================] - 4s 35ms/step - loss: 3471513.3750 - mean_squared_error: 3471513.3750\n",
      "Epoch 41/50\n",
      "115/115 [==============================] - 4s 38ms/step - loss: 3476071.6918 - mean_squared_error: 3476071.6918\n",
      "Epoch 42/50\n",
      "115/115 [==============================] - 4s 38ms/step - loss: 3544033.6034 - mean_squared_error: 3544033.6034\n",
      "Epoch 43/50\n",
      "115/115 [==============================] - 4s 38ms/step - loss: 3405052.0690 - mean_squared_error: 3405052.0690\n",
      "Epoch 44/50\n",
      "115/115 [==============================] - 4s 37ms/step - loss: 3381805.8427 - mean_squared_error: 3381805.8427\n",
      "Epoch 45/50\n",
      "115/115 [==============================] - 4s 38ms/step - loss: 3420380.2241 - mean_squared_error: 3420380.2241\n",
      "Epoch 46/50\n",
      "115/115 [==============================] - 5s 39ms/step - loss: 3483152.2134 - mean_squared_error: 3483152.2134\n",
      "Epoch 47/50\n",
      "115/115 [==============================] - 4s 38ms/step - loss: 3436792.6358 - mean_squared_error: 3436792.6358\n",
      "Epoch 48/50\n",
      "115/115 [==============================] - 5s 40ms/step - loss: 3216907.4526 - mean_squared_error: 3216907.4526\n",
      "Epoch 49/50\n",
      "115/115 [==============================] - 4s 37ms/step - loss: 3292486.2522 - mean_squared_error: 3292486.2522\n",
      "Epoch 50/50\n",
      "115/115 [==============================] - 4s 38ms/step - loss: 3266680.5280 - mean_squared_error: 3266680.5280\n"
     ]
    },
    {
     "name": "stderr",
     "output_type": "stream",
     "text": [
      "C:\\Users\\alesi\\anaconda3\\lib\\site-packages\\tensorflow\\python\\keras\\engine\\sequential.py:450: UserWarning: `model.predict_classes()` is deprecated and will be removed after 2021-01-01. Please use instead:* `np.argmax(model.predict(x), axis=-1)`,   if your model does multi-class classification   (e.g. if it uses a `softmax` last-layer activation).* `(model.predict(x) > 0.5).astype(\"int32\")`,   if your model does binary classification   (e.g. if it uses a `sigmoid` last-layer activation).\n",
      "  warnings.warn('`model.predict_classes()` is deprecated and '\n"
     ]
    },
    {
     "name": "stdout",
     "output_type": "stream",
     "text": [
      "Epoch 1/50\n",
      "115/115 [==============================] - 9s 34ms/step - loss: 4485721.7866 - mean_squared_error: 4485721.7866\n",
      "Epoch 2/50\n",
      "115/115 [==============================] - 4s 34ms/step - loss: 4406261.2953 - mean_squared_error: 4406261.2953\n",
      "Epoch 3/50\n",
      "115/115 [==============================] - 4s 34ms/step - loss: 4520476.7500 - mean_squared_error: 4520476.7500\n",
      "Epoch 4/50\n",
      "115/115 [==============================] - 4s 37ms/step - loss: 4290460.8944 - mean_squared_error: 4290460.8944\n",
      "Epoch 5/50\n",
      "115/115 [==============================] - 4s 33ms/step - loss: 4361838.4397 - mean_squared_error: 4361838.4397\n",
      "Epoch 6/50\n",
      "115/115 [==============================] - 4s 34ms/step - loss: 4319751.8534 - mean_squared_error: 4319751.8534\n",
      "Epoch 7/50\n",
      "115/115 [==============================] - 4s 34ms/step - loss: 4224164.8233 - mean_squared_error: 4224164.8233\n",
      "Epoch 8/50\n",
      "115/115 [==============================] - 4s 35ms/step - loss: 4277768.3103 - mean_squared_error: 4277768.3103\n",
      "Epoch 9/50\n",
      "115/115 [==============================] - 4s 35ms/step - loss: 4124626.9009 - mean_squared_error: 4124626.9009\n",
      "Epoch 10/50\n",
      "115/115 [==============================] - 4s 35ms/step - loss: 4133323.9741 - mean_squared_error: 4133323.9741\n",
      "Epoch 11/50\n",
      "115/115 [==============================] - 4s 35ms/step - loss: 4114993.0668 - mean_squared_error: 4114993.0668\n",
      "Epoch 12/50\n",
      "115/115 [==============================] - 4s 38ms/step - loss: 4174433.3190 - mean_squared_error: 4174433.3190\n",
      "Epoch 13/50\n",
      "115/115 [==============================] - 4s 37ms/step - loss: 4094727.6401 - mean_squared_error: 4094727.6401\n",
      "Epoch 14/50\n",
      "115/115 [==============================] - 4s 38ms/step - loss: 4031397.0280 - mean_squared_error: 4031397.0280\n",
      "Epoch 15/50\n",
      "115/115 [==============================] - 4s 36ms/step - loss: 4060263.7004 - mean_squared_error: 4060263.7004\n",
      "Epoch 16/50\n",
      "115/115 [==============================] - 4s 36ms/step - loss: 4093805.3772 - mean_squared_error: 4093805.3772\n",
      "Epoch 17/50\n",
      "115/115 [==============================] - 4s 37ms/step - loss: 3981591.4655 - mean_squared_error: 3981591.4655\n",
      "Epoch 18/50\n",
      "115/115 [==============================] - 4s 35ms/step - loss: 4023489.4095 - mean_squared_error: 4023489.4095\n",
      "Epoch 19/50\n",
      "115/115 [==============================] - 4s 34ms/step - loss: 3935459.5172 - mean_squared_error: 3935459.5172\n",
      "Epoch 20/50\n",
      "115/115 [==============================] - 4s 33ms/step - loss: 3934883.6509 - mean_squared_error: 3934883.6509\n",
      "Epoch 21/50\n",
      "115/115 [==============================] - 4s 34ms/step - loss: 3937949.4849 - mean_squared_error: 3937949.4849\n",
      "Epoch 22/50\n",
      "115/115 [==============================] - 4s 35ms/step - loss: 3924363.0323 - mean_squared_error: 3924363.0323\n",
      "Epoch 23/50\n",
      "115/115 [==============================] - 4s 35ms/step - loss: 3924442.8190 - mean_squared_error: 3924442.8190\n",
      "Epoch 24/50\n",
      "115/115 [==============================] - 4s 34ms/step - loss: 3860539.0754 - mean_squared_error: 3860539.0754\n",
      "Epoch 25/50\n",
      "115/115 [==============================] - 4s 37ms/step - loss: 3764809.2543 - mean_squared_error: 3764809.2543\n",
      "Epoch 26/50\n",
      "115/115 [==============================] - 4s 39ms/step - loss: 3836596.8017 - mean_squared_error: 3836596.8017\n",
      "Epoch 27/50\n",
      "115/115 [==============================] - 4s 35ms/step - loss: 3820902.8448 - mean_squared_error: 3820902.8448\n",
      "Epoch 28/50\n",
      "115/115 [==============================] - 4s 37ms/step - loss: 3840347.9763 - mean_squared_error: 3840347.9763\n",
      "Epoch 29/50\n",
      "115/115 [==============================] - 4s 36ms/step - loss: 3765798.1595 - mean_squared_error: 3765798.1595\n",
      "Epoch 30/50\n",
      "115/115 [==============================] - 4s 38ms/step - loss: 3706182.8578 - mean_squared_error: 3706182.8578\n",
      "Epoch 31/50\n",
      "115/115 [==============================] - 5s 44ms/step - loss: 3722872.5194 - mean_squared_error: 3722872.5194\n",
      "Epoch 32/50\n",
      "115/115 [==============================] - 4s 38ms/step - loss: 3641866.1918 - mean_squared_error: 3641866.1918\n",
      "Epoch 33/50\n",
      "115/115 [==============================] - 4s 37ms/step - loss: 3754125.9267 - mean_squared_error: 3754125.9267\n",
      "Epoch 34/50\n",
      "115/115 [==============================] - 4s 35ms/step - loss: 3524574.7974 - mean_squared_error: 3524574.7974\n",
      "Epoch 35/50\n",
      "115/115 [==============================] - 4s 37ms/step - loss: 3602400.6746 - mean_squared_error: 3602400.6746\n",
      "Epoch 36/50\n",
      "115/115 [==============================] - 4s 38ms/step - loss: 3561879.1703 - mean_squared_error: 3561879.1703\n",
      "Epoch 37/50\n",
      "115/115 [==============================] - 4s 38ms/step - loss: 3613432.5690 - mean_squared_error: 3613432.5690\n",
      "Epoch 38/50\n",
      "115/115 [==============================] - 4s 36ms/step - loss: 3499538.2651 - mean_squared_error: 3499538.2651\n",
      "Epoch 39/50\n",
      "115/115 [==============================] - 4s 38ms/step - loss: 3432639.2759 - mean_squared_error: 3432639.2759\n",
      "Epoch 40/50\n",
      "115/115 [==============================] - 4s 38ms/step - loss: 3495364.8793 - mean_squared_error: 3495364.8793\n",
      "Epoch 41/50\n",
      "115/115 [==============================] - 4s 37ms/step - loss: 3430862.4483 - mean_squared_error: 3430862.4483\n",
      "Epoch 42/50\n",
      "115/115 [==============================] - 4s 37ms/step - loss: 3458919.6530 - mean_squared_error: 3458919.6530\n",
      "Epoch 43/50\n",
      "115/115 [==============================] - 4s 38ms/step - loss: 3459221.6185 - mean_squared_error: 3459221.6185\n",
      "Epoch 44/50\n",
      "115/115 [==============================] - 4s 39ms/step - loss: 3445376.9332 - mean_squared_error: 3445376.9332\n",
      "Epoch 45/50\n",
      "115/115 [==============================] - 4s 37ms/step - loss: 3287950.5797 - mean_squared_error: 3287950.5797\n",
      "Epoch 46/50\n",
      "115/115 [==============================] - 4s 36ms/step - loss: 3328873.3082 - mean_squared_error: 3328873.3082\n",
      "Epoch 47/50\n",
      "115/115 [==============================] - 4s 38ms/step - loss: 3370450.7586 - mean_squared_error: 3370450.7586\n",
      "Epoch 48/50\n",
      "115/115 [==============================] - 4s 37ms/step - loss: 3395245.5108 - mean_squared_error: 3395245.5108\n",
      "Epoch 49/50\n",
      "115/115 [==============================] - 4s 36ms/step - loss: 3284210.2177 - mean_squared_error: 3284210.2177\n",
      "Epoch 50/50\n",
      "115/115 [==============================] - 4s 38ms/step - loss: 3283062.8901 - mean_squared_error: 3283062.8901\n"
     ]
    },
    {
     "name": "stderr",
     "output_type": "stream",
     "text": [
      "C:\\Users\\alesi\\anaconda3\\lib\\site-packages\\tensorflow\\python\\keras\\engine\\sequential.py:450: UserWarning: `model.predict_classes()` is deprecated and will be removed after 2021-01-01. Please use instead:* `np.argmax(model.predict(x), axis=-1)`,   if your model does multi-class classification   (e.g. if it uses a `softmax` last-layer activation).* `(model.predict(x) > 0.5).astype(\"int32\")`,   if your model does binary classification   (e.g. if it uses a `sigmoid` last-layer activation).\n",
      "  warnings.warn('`model.predict_classes()` is deprecated and '\n"
     ]
    },
    {
     "name": "stdout",
     "output_type": "stream",
     "text": [
      "Epoch 1/20\n",
      "229/229 [==============================] - 15s 37ms/step - loss: 17465882.0652 - mean_squared_error: 17465882.0652\n",
      "Epoch 2/20\n",
      "229/229 [==============================] - 9s 37ms/step - loss: 17880950.7304 - mean_squared_error: 17880950.7304\n",
      "Epoch 3/20\n",
      "229/229 [==============================] - 8s 37ms/step - loss: 17637647.8261 - mean_squared_error: 17637647.8261\n",
      "Epoch 4/20\n",
      "229/229 [==============================] - 9s 38ms/step - loss: 17460558.9739 - mean_squared_error: 17460558.9739\n",
      "Epoch 5/20\n",
      "229/229 [==============================] - 9s 38ms/step - loss: 17485524.1739 - mean_squared_error: 17485524.1739\n",
      "Epoch 6/20\n",
      "229/229 [==============================] - 9s 38ms/step - loss: 17532345.8174 - mean_squared_error: 17532345.8174\n",
      "Epoch 7/20\n",
      "229/229 [==============================] - 9s 38ms/step - loss: 17187638.7522 - mean_squared_error: 17187638.7522\n",
      "Epoch 8/20\n",
      "229/229 [==============================] - 8s 37ms/step - loss: 17003777.5565 - mean_squared_error: 17003777.5565\n",
      "Epoch 9/20\n",
      "229/229 [==============================] - 9s 38ms/step - loss: 16925815.9870 - mean_squared_error: 16925815.9870\n",
      "Epoch 10/20\n",
      "229/229 [==============================] - 9s 38ms/step - loss: 16418773.8522 - mean_squared_error: 16418773.8522\n",
      "Epoch 11/20\n",
      "229/229 [==============================] - 9s 39ms/step - loss: 16552547.0609 - mean_squared_error: 16552547.0609\n",
      "Epoch 12/20\n",
      "229/229 [==============================] - 9s 39ms/step - loss: 16441819.4435 - mean_squared_error: 16441819.4435\n",
      "Epoch 13/20\n",
      "229/229 [==============================] - 9s 40ms/step - loss: 16561713.6826 - mean_squared_error: 16561713.6826\n",
      "Epoch 14/20\n",
      "229/229 [==============================] - 9s 40ms/step - loss: 16653637.0087 - mean_squared_error: 16653637.0087\n",
      "Epoch 15/20\n",
      "229/229 [==============================] - 9s 38ms/step - loss: 16045212.0000 - mean_squared_error: 16045212.0000\n",
      "Epoch 16/20\n",
      "229/229 [==============================] - 9s 40ms/step - loss: 16340980.3783 - mean_squared_error: 16340980.3783\n",
      "Epoch 17/20\n",
      "229/229 [==============================] - 9s 38ms/step - loss: 16059174.0261 - mean_squared_error: 16059174.0261\n",
      "Epoch 18/20\n",
      "229/229 [==============================] - 9s 39ms/step - loss: 16181759.9522 - mean_squared_error: 16181759.9522\n",
      "Epoch 19/20\n",
      "229/229 [==============================] - 9s 38ms/step - loss: 16268481.5043 - mean_squared_error: 16268481.5043\n",
      "Epoch 20/20\n",
      "229/229 [==============================] - 9s 39ms/step - loss: 16034760.2174 - mean_squared_error: 16034760.2174\n"
     ]
    }
   ],
   "source": [
    "from keras.wrappers.scikit_learn import KerasClassifier\n",
    "from sklearn.model_selection import GridSearchCV\n",
    "\n",
    "def build_classifier(optimizer):\n",
    "    grid_model = Sequential()\n",
    "    grid_model.add(LSTM(units = 64,input_shape = (50,1)))\n",
    "    grid_model.add(Dropout(0.4))\n",
    "    grid_model.add(Dense(1))\n",
    "\n",
    "    grid_model.compile(loss = 'mse',optimizer = optimizer, metrics = ['mean_squared_error'])\n",
    "    return grid_model\n",
    "\n",
    "grid_model = KerasClassifier(build_fn=build_classifier)\n",
    "parameters = {'batch_size' : [32],\n",
    "               'epochs' : [20,50],\n",
    "              'optimizer' : ['adam'] }\n",
    "\n",
    "grid_search  = GridSearchCV(estimator = grid_model,\n",
    "                            param_grid = parameters,\n",
    "                            scoring = 'neg_mean_squared_error',\n",
    "                            cv = 2)\n",
    "\n",
    "\n",
    "\n",
    "grid_search = grid_search.fit(features_set,labels)"
   ]
  },
  {
   "cell_type": "code",
   "execution_count": 50,
   "metadata": {},
   "outputs": [
    {
     "data": {
      "text/plain": [
       "{'batch_size': 32, 'epochs': 20, 'optimizer': 'adam'}"
      ]
     },
     "execution_count": 50,
     "metadata": {},
     "output_type": "execute_result"
    }
   ],
   "source": [
    "best_parameters = grid_search.best_params_\n",
    "best_accuracy = grid_search.best_score_\n",
    "best_parameters"
   ]
  },
  {
   "cell_type": "code",
   "execution_count": 38,
   "metadata": {},
   "outputs": [
    {
     "data": {
      "text/plain": [
       "array([[0.2234717 , 0.16163201, 0.20019499, ..., 0.42314219, 0.39647356,\n",
       "        0.38653022],\n",
       "       [0.54778469, 0.53651845, 0.59138859, ..., 0.64188457, 0.57389185,\n",
       "        0.54498805],\n",
       "       [0.81151686, 0.75810207, 0.75106067, ..., 0.7945658 , 0.83358227,\n",
       "        0.91174531],\n",
       "       ...,\n",
       "       [0.96338652, 0.95140427, 0.94364447, ..., 0.76946144, 0.76684189,\n",
       "        0.77329558],\n",
       "       [0.78042029, 0.78092329, 0.77810149, ..., 0.79887116, 0.79436882,\n",
       "        0.79631411],\n",
       "       [0.87834256, 0.87097847, 0.86740449, ..., 0.79194238, 0.78574633,\n",
       "        0.7925877 ]])"
      ]
     },
     "execution_count": 38,
     "metadata": {},
     "output_type": "execute_result"
    }
   ],
   "source": [
    "\n",
    "test_scaled=scaler.transform(test)\n",
    "test_scaled\n"
   ]
  },
  {
   "cell_type": "code",
   "execution_count": 39,
   "metadata": {},
   "outputs": [
    {
     "data": {
      "text/plain": [
       "(3141, 50, 1)"
      ]
     },
     "execution_count": 39,
     "metadata": {},
     "output_type": "execute_result"
    }
   ],
   "source": [
    "\n",
    "test_features = np.reshape(test_scaled, (-1, test_scaled.shape[1], 1))\n",
    "test_features.shape\n",
    "\n",
    "\n",
    "test_features.shape"
   ]
  },
  {
   "cell_type": "code",
   "execution_count": 159,
   "metadata": {},
   "outputs": [
    {
     "data": {
      "text/plain": [
       "array([[-0.43264723],\n",
       "       [ 0.28264827],\n",
       "       [ 1.5591255 ],\n",
       "       ...,\n",
       "       [ 1.0240332 ],\n",
       "       [ 1.0181649 ],\n",
       "       [ 1.0232127 ]], dtype=float32)"
      ]
     },
     "execution_count": 159,
     "metadata": {},
     "output_type": "execute_result"
    }
   ],
   "source": [
    "predictions = model.predict(test_features)\n",
    "predictions"
   ]
  },
  {
   "cell_type": "code",
   "execution_count": 163,
   "metadata": {},
   "outputs": [],
   "source": [
    "np.savetxt(\"submissions23.txt\", predictions,delimiter = \",\")"
   ]
  }
 ],
 "metadata": {
  "kernelspec": {
   "display_name": "Python 3",
   "language": "python",
   "name": "python3"
  },
  "language_info": {
   "codemirror_mode": {
    "name": "ipython",
    "version": 3
   },
   "file_extension": ".py",
   "mimetype": "text/x-python",
   "name": "python",
   "nbconvert_exporter": "python",
   "pygments_lexer": "ipython3",
   "version": "3.8.5"
  }
 },
 "nbformat": 4,
 "nbformat_minor": 4
}
